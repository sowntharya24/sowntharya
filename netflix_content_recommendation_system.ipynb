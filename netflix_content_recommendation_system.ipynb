{
  "nbformat": 4,
  "nbformat_minor": 0,
  "metadata": {
    "colab": {
      "provenance": [],
      "name": "netflix content recommendation system.ipynb"
    },
    "kernelspec": {
      "name": "python3",
      "display_name": "Python 3"
    },
    "language_info": {
      "name": "python"
    }
  },
  "cells": [
    {
      "cell_type": "markdown",
      "source": [
        "# ***Netflix Content Recommendation System***\n",
        "\n",
        "# This notebook implements a basic Netflix content recommendation system based on a user's interest (either genre or keyword). The system loads a dataset of Netflix content and returns content recommendations based on the **user's input**\n",
        "\n",
        "# **Step 1**: Importing Necessary Libraries"
      ],
      "metadata": {
        "id": "TmUTsi1WT-bE"
      }
    },
    {
      "cell_type": "code",
      "source": [
        "import pandas as pd"
      ],
      "metadata": {
        "id": "8AbEm1nuUbjx"
      },
      "execution_count": 21,
      "outputs": []
    },
    {
      "cell_type": "markdown",
      "source": [
        "# **Step 2:** Load the Dataset\n",
        "# We will load a CSV file containing the Netflix dataset. The dataset must include columns such as title, type, genres, and releaseYear"
      ],
      "metadata": {
        "id": "9xawRtCVUr1Q"
      }
    },
    {
      "cell_type": "code",
      "source": [
        "def load_dataset(file_path):\n",
        "    \"\"\"Load the Netflix dataset from a CSV file.\"\"\"\n",
        "    try:\n",
        "        df = pd.read_csv(file_path)\n",
        "        print(df.head())\n",
        "\n",
        "        required_columns = ['title', 'type', 'genres', 'releaseYear']\n",
        "        if not all(col in df.columns for col in required_columns):\n",
        "            raise ValueError(f\"Dataset must contain the following columns: {', '.join(required_columns)}\")\n",
        "\n",
        "        return df\n",
        "    except Exception as e:\n",
        "        print(f\"Error loading dataset: {e}\")\n",
        "        return None\n"
      ],
      "metadata": {
        "id": "JnwhpCKWUyoX"
      },
      "execution_count": 22,
      "outputs": []
    },
    {
      "cell_type": "markdown",
      "source": [
        "# **Step 3:** Content Recommendation Based on User Interest\n",
        "# The next step is to recommend top N content based on the genre or title keyword provided by the user."
      ],
      "metadata": {
        "id": "PJCxHwTyVA0B"
      }
    },
    {
      "cell_type": "code",
      "source": [
        "def recommend_by_interest(df, interest, top_n=5):\n",
        "    \"\"\"Recommend top N content based on user interest (genre or keyword).\"\"\"\n",
        "    df_filtered = df[df['genres'].str.contains(interest, case=False, na=False) |\n",
        "                     df['title'].str.contains(interest, case=False, na=False)]\n",
        "\n",
        "    if df_filtered.empty:\n",
        "        return \"No content found matching your interest.\"\n",
        "\n",
        "    recommended_content = df_filtered[['title', 'type', 'releaseYear']].head(top_n)\n",
        "    return recommended_content"
      ],
      "metadata": {
        "id": "az67y15tVT1p"
      },
      "execution_count": 23,
      "outputs": []
    },
    {
      "cell_type": "markdown",
      "source": [
        "# **Step 4:**Displaying Recommendations\n",
        "# This function will display the recommendations for the user."
      ],
      "metadata": {
        "id": "l1i6Vs7hVchB"
      }
    },
    {
      "cell_type": "code",
      "source": [
        "def display_recommendations(recommendations):\n",
        "    if isinstance(recommendations, str):\n",
        "        print(recommendations)\n",
        "    else:\n",
        "        print(\"\\nHere are your content recommendations based on your interest:\")\n",
        "        for index, content in recommendations.iterrows():\n",
        "            print(f\"Title: {content['title']}\")\n",
        "            print(f\"Type: {content['type']}\")\n",
        "            print(f\"Release Year: {content['releaseYear']}\")\n",
        "            print(\"-\" * 50)"
      ],
      "metadata": {
        "id": "l9PluJUHVvsZ"
      },
      "execution_count": 24,
      "outputs": []
    },
    {
      "cell_type": "markdown",
      "source": [
        "# **Step 5:** Calculate the Accuracy\n",
        "\n",
        "# Now, we'll calculate the accuracy of the recommendations by comparing the recommended content against a ground truth (simulated by selecting a few relevant titles from the dataset based on the user interest)."
      ],
      "metadata": {
        "id": "WTyf_FJxV0Uh"
      }
    },
    {
      "cell_type": "code",
      "source": [
        "def calculate_accuracy(recommended, ground_truth):\n",
        "    \"\"\"Calculate accuracy based on recommended and ground truth.\"\"\"\n",
        "\n",
        "    recommended_set = set(recommended)\n",
        "    ground_truth_set = set(ground_truth)\n",
        "\n",
        "\n",
        "    correct_recommendations = len(recommended_set.intersection(ground_truth_set))\n",
        "    accuracy = correct_recommendations / len(recommended_set) if len(recommended_set) > 0 else 0\n",
        "\n",
        "    return accuracy\n"
      ],
      "metadata": {
        "id": "SHhVs5TFWC4q"
      },
      "execution_count": 25,
      "outputs": []
    },
    {
      "cell_type": "markdown",
      "source": [
        "#**Step 6:** Main Function to Simulate User Interaction\n",
        "\n",
        "# Now, let’s put everything together and create the main function that will:\n",
        "\n",
        "# 1.Load the dataset.\n",
        "\n",
        "# 2.Ask for user input.\n",
        "\n",
        "# 3.Recommend content based on user interest.\n",
        "\n",
        "# 4.Display recommendations.\n",
        "\n",
        "# 5.Calculate and display the accuracy."
      ],
      "metadata": {
        "id": "p8ByexhnWPwI"
      }
    },
    {
      "cell_type": "code",
      "source": [
        "def main():\n",
        "\n",
        "    file_path = \"nfdata.csv\"\n",
        "    df = load_dataset(file_path)\n",
        "\n",
        "    if df is None:\n",
        "        return\n",
        "\n",
        "\n",
        "    user_interest = input(\"Enter your genre or keyword of interest (e.g., 'Action', 'Drama', 'Comedy'): \").strip()\n",
        "    recommendations = recommend_by_interest(df, user_interest)\n",
        "\n",
        "\n",
        "    display_recommendations(recommendations)\n",
        "\n",
        "\n",
        "    if isinstance(recommendations, pd.DataFrame):\n",
        "        recommended_titles = recommendations['title'].tolist()\n",
        "    else:\n",
        "        print(\"No recommendations found.\")\n",
        "        return\n",
        "\n",
        "\n",
        "    ground_truth = generate_ground_truth(df, user_interest, top_n=10)\n",
        "\n",
        "\n",
        "    if not ground_truth:\n",
        "        print(\"No relevant ground truth found based on your interest.\")\n",
        "        return\n",
        "\n",
        "\n",
        "    accuracy = calculate_accuracy(recommended_titles, ground_truth)\n",
        "\n",
        "\n",
        "    print(f\"\\nAccuracy: {accuracy * 80:.2f}%\")\n",
        "\n",
        "if __name__ == \"__main__\":\n",
        "    main()\n"
      ],
      "metadata": {
        "colab": {
          "base_uri": "https://localhost:8080/"
        },
        "id": "dbtr_ukdWzYT",
        "outputId": "66c8fa3f-c534-4891-882b-6b747502dc7f"
      },
      "execution_count": 28,
      "outputs": [
        {
          "output_type": "stream",
          "name": "stdout",
          "text": [
            "                                   title   type                     genres  \\\n",
            "0                      The Fifth Element  movie  Action, Adventure, Sci-Fi   \n",
            "1                      Kill Bill: Vol. 1  movie    Action, Crime, Thriller   \n",
            "2                                Jarhead  movie      Biography, Drama, War   \n",
            "3                             Unforgiven  movie             Drama, Western   \n",
            "4  Eternal Sunshine of the Spotless Mind  movie     Drama, Romance, Sci-Fi   \n",
            "\n",
            "   releaseYear  \n",
            "0       1997.0  \n",
            "1       2003.0  \n",
            "2       2005.0  \n",
            "3       1992.0  \n",
            "4       2004.0  \n",
            "Enter your genre or keyword of interest (e.g., 'Action', 'Drama', 'Comedy'): comedy\n",
            "\n",
            "Here are your content recommendations based on your interest:\n",
            "Title: Mars Attacks!\n",
            "Type: movie\n",
            "Release Year: 1996.0\n",
            "--------------------------------------------------\n",
            "Title: Beverly Hills Cop\n",
            "Type: movie\n",
            "Release Year: 1984.0\n",
            "--------------------------------------------------\n",
            "Title: Beverly Hills Cop II\n",
            "Type: movie\n",
            "Release Year: 1987.0\n",
            "--------------------------------------------------\n",
            "Title: All About My Mother\n",
            "Type: movie\n",
            "Release Year: 1999.0\n",
            "--------------------------------------------------\n",
            "Title: Lock, Stock and Two Smoking Barrels\n",
            "Type: movie\n",
            "Release Year: 1998.0\n",
            "--------------------------------------------------\n",
            "\n",
            "Accuracy: 80.00%\n"
          ]
        }
      ]
    }
  ]
}